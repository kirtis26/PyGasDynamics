{
 "cells": [
  {
   "cell_type": "markdown",
   "metadata": {},
   "source": [
    "# ЗАДАЧА ЛАГРАНЖА\n",
    "\n",
    "## Проектирование одноступенчатого метательного устройства на сжатом газе"
   ]
  },
  {
   "cell_type": "code",
   "execution_count": 1,
   "metadata": {},
   "outputs": [],
   "source": [
    "# Импорт библиотек и модулей\n",
    "import numpy as np\n",
    "import matplotlib.pyplot as plt\n",
    "import pylab\n",
    "import matplotlib as mpl\n",
    "import timeit\n",
    "import pandas as pd\n",
    "from tqdm import tqdm\n",
    "from numba import jit\n",
    "from mpl_toolkits.mplot3d import Axes3D\n",
    "from matplotlib import cm\n",
    "%matplotlib inline "
   ]
  },
  {
   "cell_type": "code",
   "execution_count": 2,
   "metadata": {},
   "outputs": [],
   "source": [
    "# Настройка шрифтов\n",
    "rc = {\"font.family\" : \"serif\", \n",
    "      \"mathtext.fontset\" : \"stix\"}\n",
    "plt.rcParams.update(rc)\n",
    "plt.rcParams[\"font.serif\"] = [\"Times New Roman\"] + plt.rcParams[\"font.serif\"]"
   ]
  },
  {
   "cell_type": "markdown",
   "metadata": {},
   "source": [
    "## Исходные данные"
   ]
  },
  {
   "cell_type": "code",
   "execution_count": 11,
   "metadata": {},
   "outputs": [],
   "source": [
    "# Пример формирования словаря с начальными данными\n",
    "opts = {\n",
    "    'x0': 0.1,\n",
    "    'p0': 5e6,\n",
    "    'm': 0.011,\n",
    "    'd': 0.0145,\n",
    "    'k': 1.4,\n",
    "    'T0': 300,\n",
    "    'R': 287,\n",
    "    'stop_conditions': {'u_p_max': 125, 'x_m_max': 55*0.0145, 'p0_max': 10e6},\n",
    "    'meta_parametrs': {'N': 300, 'Ku': 0.8} \n",
    "}"
   ]
  },
  {
   "cell_type": "markdown",
   "metadata": {},
   "source": [
    "## Прямая задача"
   ]
  },
  {
   "cell_type": "code",
   "execution_count": 12,
   "metadata": {},
   "outputs": [],
   "source": [
    "@jit(nopython=True)\n",
    "def direct_task(arr_args, N=300, Ku=0.8, time_max=0.1):\n",
    "    \n",
    "    '''\n",
    "    Функция решения прямой задачи газовой динамики в эйлеровых координатах на подвижной сетке методом AUSM+.\n",
    "    \n",
    "    Стоит отметить, что данная функция написана с учетом возможностей JIT (just-in-time) декоратора,\n",
    "    оптимизируюшего исходный код в машинный. К примеру, невозможно было в этом случае в теле функции\n",
    "    работать с такой структурой данных, как словарь, для удобства вывода результатов.\n",
    "    \n",
    "    !ПРИМЕЧАНИЕ!: первая прогонка этой функции проводит оптимизацию кода; при последующих запусках (что\n",
    "    характерно для решения обратных задач) время выполнения ф-ции становится минимальным (порядка 0.1-0.2 секунд)\n",
    "    \n",
    "    args: arr_args - numpy массив с последовательными элементами: m, d, x0, p0, T0, R, k, u_p_max, x_m_max;\n",
    "          N, Ku, time_max - опциональные аргументы: число ячеек, число Куранта и время вычисления\n",
    "          по умолчанию: N=300, Ku=0.8, time_max=0.1 с\n",
    "    :atype: numpy.ndarray\n",
    "    \n",
    "    return: списки распределения параметров по ячейкам в каждый момент времени: arr_x, arr_u, arr_p;\n",
    "            списки осевых координат поршня, его скорости и соответствующих моментов времени: arr_x_p, arr_u_p, arr_time;\n",
    "            условие остановки stop_reason\n",
    "    :rtype: list, ..., list, str\n",
    "    '''\n",
    "    m, d, x0, p0, T0, R, k, x_m_max = arr_args \n",
    "    \n",
    "    # functions for the method:\n",
    "    def f_plus(Max):  \n",
    "        betta = 1 / 8\n",
    "        return np.where(np.abs(Max) >= 1, (Max + np.abs(Max)) / 2, ((Max + 1) ** 2) * (1 + 4 * betta * ((Max - 1) ** 2)) / 4)\n",
    "    \n",
    "    def f_minus(Max):\n",
    "        betta = 1 / 8\n",
    "        return np.where(np.abs(Max) >= 1, (Max - np.abs(Max)) / 2, - ((Max - 1) ** 2) * (1 + 4 * betta * ((Max + 1) ** 2)) / 4)\n",
    "    \n",
    "    def g_plus(Max): \n",
    "        alpha = 3 / 16\n",
    "        return np.where(np.abs(Max) >= 1, (Max + np.abs(Max)) / (2 * Max), ((Max + 1) ** 2) * ((2 - Max) / 4 + alpha * Max * ((Max - 1) ** 2)))\n",
    "\n",
    "    def g_minus(Max):\n",
    "        alpha = 3 / 16\n",
    "        return np.where(np.abs(Max) >= 1, (Max - np.abs(Max)) / (2 * Max), ((Max - 1) ** 2) * ((2 + Max) / 4 - alpha * Max * ((Max + 1) ** 2)))\n",
    "    #------------------------------------------------------------------------------------------------------------------------------------------\n",
    "    # initial and boundary conditions  \n",
    "    rho0 = (p0 / (R * T0))\n",
    "    c0 = np.sqrt(k * p0 / rho0) \n",
    "    e0 = p0 / (rho0 * (k - 1))\n",
    "    \n",
    "    u_last = np.zeros(N)\n",
    "    rho_last = np.zeros(N)\n",
    "    e_last = np.zeros(N)\n",
    "    \n",
    "    for i in range(N):\n",
    "        rho_last[i] = rho0\n",
    "        e_last[i] = e0\n",
    "    \n",
    "    q1_last = rho_last\n",
    "    q2_last = rho_last * u_last\n",
    "    q3_last = rho_last * (e_last + (u_last ** 2) / 2)\n",
    "    \n",
    "    S = np.pi * d**2 / 4\n",
    "    u_p = 0\n",
    "    x_p = x0\n",
    "    time = 0\n",
    "    dx_last = x0 / N\n",
    "    \n",
    "    # lists for recording results\n",
    "    arr_time = [time]\n",
    "    arr_x = [np.linspace(0, x_p, N)]\n",
    "    arr_u = [u_last]\n",
    "    arr_p = [np.linspace(p0, p0, N)]\n",
    "    arr_x_p = [x_p]\n",
    "    arr_u_p = [u_p]\n",
    "\n",
    "    #--------------------------------------------------\n",
    "    # main loop:\n",
    "    i = 0\n",
    "    while x_p <= x_m_max and time <= time_max and i <= 1e4:\n",
    "        #Параметры в ячейках на временном слое n\n",
    "        u_last = q2_last / q1_last\n",
    "        p_last = (k - 1) * (q3_last - (q2_last**2 / (2 * q1_last)))\n",
    "        c_last = np.sqrt((k * p_last) / q1_last)\n",
    "        H_last = (q3_last / q1_last) + (p_last / q1_last)\n",
    "        # Вычисление шага по времени из условия Куранта-Фридрихса-Леви\n",
    "        tau = Ku * dx_last / np.max(np.abs(u_last) + c_last)\n",
    "        # Вычисление шага по пространству на временном слое n+1\n",
    "        dx_new = x_p / N\n",
    "        # Записываем граничные условия\n",
    "        u_left = np.append(-u_last[0], u_last)\n",
    "        u_right = np.append(u_last, -u_last[N-1] + 2 * u_p)\n",
    "        p_left = np.append (p_last[0], p_last)\n",
    "        p_right = np.append (p_last, p_last[N-1])\n",
    "        c_left = np.append (c_last[0], c_last)\n",
    "        c_right = np.append (c_last, c_last[N-1])\n",
    "        H_left = np.append (H_last[0], H_last)\n",
    "        H_right = np.append (H_last, H_last[N-1])\n",
    "        q1_left = np.append (q1_last[0], q1_last)\n",
    "        q1_right = np.append (q1_last, q1_last[N-1])\n",
    "        q2_left = np.append (-q2_last[0], q2_last)\n",
    "        q2_right = np.append (q2_last, -q2_last[N-1] + 2 * q1_last[N-1] * u_p )\n",
    "        # Вычисляем давление, число Маха, скорость звука и скорость на границах ячеек (интерфейсах)\n",
    "        c = (c_left + c_right) / 2\n",
    "        u = np.arange(N + 1) * (u_p / N)\n",
    "        M_left = (u_left - u) / c\n",
    "        M_right = (u_right - u) / c\n",
    "        M = f_plus(M_left) + f_minus(M_right)\n",
    "        P = g_plus(M_left) * p_left + g_minus(M_right) * p_right\n",
    "        # Вычисляем потоки по методу AUSM+\n",
    "        f1 = ((c * (M * (q1_right + q1_left) - np.abs(M) * (q1_right - q1_left))) / 2 + 0)\n",
    "        f2 = ((c * (M * (q2_right + q2_left) - np.abs(M) * (q2_right - q2_left))) / 2 + P)\n",
    "        f3 = ((c * (M * (q1_right * H_right + q1_left * H_left) - np.abs(M) * (q1_right * H_right - q1_left * H_left))) / 2 + P * u)\n",
    "        # Решения на временном слое n+1\n",
    "        q1_last = ((dx_last / dx_new) * (q1_last - (tau / dx_last) * (f1[1:N+1] - f1[0:N])))\n",
    "        q2_last = ((dx_last / dx_new) * (q2_last - (tau / dx_last) * (f2[1:N+1] - f2[0:N])))\n",
    "        q3_last = ((dx_last / dx_new) * (q3_last - (tau / dx_last) * (f3[1:N+1] - f3[0:N])))\n",
    "        dx_last = dx_new\n",
    "        u_new = q2_last / q1_last\n",
    "        p_new = (k - 1) * q1_last * ((q3_last / q1_last) - (u_new ** 2) / 2)\n",
    "        u_p += (S / m) * tau * p_new[N-1]\n",
    "        x_p += u_p * tau\n",
    "        time += tau\n",
    "        i += 0\n",
    "        # Запись результатов в списки\n",
    "        arr_time.append(time)\n",
    "        arr_x.append(np.linspace(0, x_p, N))\n",
    "        arr_u.append(u_new)\n",
    "        arr_p.append(p_new)\n",
    "        arr_x_p.append(x_p)\n",
    "        arr_u_p.append(u_p)\n",
    "    #--------------------------------------------------\n",
    "    # фиксирование условия остановки\n",
    "    if x_p >= x_m_max:\n",
    "        stop_reason = 'x_p'\n",
    "    elif time >= time_max:\n",
    "        stop_reason = 'time'\n",
    "    elif i >= 1e4:\n",
    "        stop_reason = 'step_max'\n",
    "    else:\n",
    "        stop_reason = 'unknown reason'\n",
    "        \n",
    "    return arr_time, arr_x, arr_u, arr_p, arr_x_p, arr_u_p, stop_reason"
   ]
  },
  {
   "cell_type": "code",
   "execution_count": 13,
   "metadata": {},
   "outputs": [],
   "source": [
    "def foo(x0, p0, di=opts):\n",
    "    \n",
    "    '''\n",
    "    Функция для решения прямой задачи Лагранжа с удобным выводом результатов\n",
    "    args: x0, p0 - варьируемые параметры (длина камеры и давление в ней);\n",
    "          opts - словарь с начальными данными (обозначаем di)\n",
    "    :atype: float, float, dict\n",
    "    return: res - словарь с результатами\n",
    "    :rtype: dict\n",
    "    '''\n",
    "\n",
    "    def unbox_args():\n",
    "        return np.array([di['m'], di['d'], di['x0'], di['p0'], di['T0'],\n",
    "                         di['R'], di['k'], di['stop_conditions']['x_m_max']])\n",
    "    \n",
    "    di['x0'] = x0\n",
    "    di['p0'] = p0\n",
    "    \n",
    "    arr_t, arr_x, arr_u, arr_p, arr_x_p, arr_u_p, stop_reason = direct_task(unbox_args())\n",
    "    \n",
    "    layers = []\n",
    "    for i in range(len(arr_t)):\n",
    "        dict_layer = {'t': arr_t[i], 'x': arr_x[i], 'u': arr_u[i], 'p': arr_p[i], 'x_p': arr_x_p[i], 'u_p': arr_u_p[i]}\n",
    "        layers.append(dict_layer)\n",
    "        \n",
    "    dict_res = {\n",
    "    'stop_reason': stop_reason,\n",
    "    'layers': np.asarray(layers)\n",
    "    }\n",
    "    \n",
    "    return dict_res"
   ]
  },
  {
   "cell_type": "code",
   "execution_count": 15,
   "metadata": {},
   "outputs": [
    {
     "name": "stdout",
     "output_type": "stream",
     "text": [
      "Wall time: 347 ms\n"
     ]
    }
   ],
   "source": [
    "%%time\n",
    "# Решение прямой задачи\n",
    "result = foo(0.1, 5e6)"
   ]
  },
  {
   "cell_type": "code",
   "execution_count": 16,
   "metadata": {},
   "outputs": [
    {
     "data": {
      "text/plain": [
       "dict_keys(['stop_reason', 'layers'])"
      ]
     },
     "execution_count": 16,
     "metadata": {},
     "output_type": "execute_result"
    }
   ],
   "source": [
    "result.keys() # ключи словаря result"
   ]
  },
  {
   "cell_type": "code",
   "execution_count": 17,
   "metadata": {},
   "outputs": [
    {
     "data": {
      "text/plain": [
       "3677"
      ]
     },
     "execution_count": 17,
     "metadata": {},
     "output_type": "execute_result"
    }
   ],
   "source": [
    "len(result['layers']) # кол-во временных слоев"
   ]
  },
  {
   "cell_type": "code",
   "execution_count": 18,
   "metadata": {},
   "outputs": [
    {
     "name": "stdout",
     "output_type": "stream",
     "text": [
      "t = 0.006548763447001392 с.\n"
     ]
    }
   ],
   "source": [
    "result['layers'][0]               # первый временной слой\n",
    "result['layers'][-1]              # последний временной слой\n",
    "t_end = result['layers'][-1]['t'] # время последнего временного слоя\n",
    "print(f't = {t_end} с.') "
   ]
  },
  {
   "cell_type": "code",
   "execution_count": 19,
   "metadata": {},
   "outputs": [],
   "source": [
    "# Формируем массив с времеными координатами\n",
    "t_p = np.asarray([result['layers'][i]['t']*1e3 for i in range(len(result['layers']))])     # в мс\n",
    "# Формируем массив с осевыми координатами, скоростями и давлениями на поршень в каждый момент времени\n",
    "u_p = np.asarray([result['layers'][i]['u_p'] for i in range(len(result['layers']))])\n",
    "x_p = np.asarray([result['layers'][i]['x_p'] for i in range(len(result['layers']))])\n",
    "p_p = np.asarray([result['layers'][i]['p'][-1]/1e6 for i in range(len(result['layers']))]) # в МПа\n",
    "# Формируем массив с давлениями на дно канала камеры установки в каждый момент времени\n",
    "p_d = np.asarray([result['layers'][i]['p'][0]/1e6 for i in range(len(result['layers']))])  # в МПа"
   ]
  },
  {
   "cell_type": "code",
   "execution_count": 20,
   "metadata": {},
   "outputs": [
    {
     "data": {
      "image/png": "[encoded data removed]",
      "text/plain": [
       "<Figure size 864x720 with 4 Axes>"
      ]
     },
     "metadata": {
      "needs_background": "light"
     },
     "output_type": "display_data"
    }
   ],
   "source": [
    "# Пример построения графиков\n",
    "mpl.rcParams['figure.figsize'] = (12,10)\n",
    "\n",
    "plt.subplot(221)\n",
    "plt.plot(x_p, u_p)\n",
    "plt.ylabel('$u_p$, м/с', fontsize=14)\n",
    "plt.xlabel('$x$, м', fontsize=14)\n",
    "plt.grid(True)\n",
    "\n",
    "plt.subplot(222)\n",
    "plt.plot(t_p, u_p)\n",
    "plt.ylabel('$u_p$, м/с', fontsize=14)\n",
    "plt.xlabel('$t$, мс', fontsize=14)\n",
    "plt.grid(True)\n",
    "\n",
    "plt.subplot(223)\n",
    "plt.plot(x_p, p_p, label='$p_{p}(x)$')\n",
    "plt.plot(x_p, p_d, label='$p_{д}(x)$')\n",
    "plt.ylabel('$p$, МПа', fontsize=14)\n",
    "plt.xlabel('$x$, м', fontsize=14)\n",
    "plt.legend(fontsize=12)\n",
    "plt.grid(True)\n",
    "\n",
    "plt.subplot(224)\n",
    "plt.plot(t_p, p_p, label='$p_{p}(t)$')\n",
    "plt.plot(t_p, p_d, label='$p_{д}(t)$')\n",
    "plt.ylabel('$p$, МПа', fontsize=14)\n",
    "plt.xlabel('$t$, мс', fontsize=14)\n",
    "plt.legend(fontsize=14)\n",
    "plt.grid(True)\n",
    "\n",
    "plt.savefig('4 графика.png', dpi=600, bbox_inches='tight')\n",
    "\n",
    "plt.show()"
   ]
  },
  {
   "cell_type": "markdown",
   "metadata": {},
   "source": [
    "## Обратная задача"
   ]
  },
  {
   "cell_type": "code",
   "execution_count": 21,
   "metadata": {},
   "outputs": [],
   "source": [
    "d = opts['d']\n",
    "S = np.pi * d**2 / 4\n",
    "m = opts['m']\n",
    "k = opts['k']\n",
    "@jit(nopython=True)\n",
    "def target_foo(x0, p0, u_p):\n",
    "    '''\n",
    "    Целевая ф-ция для оптимизации решений (к примеру, была выбрана ф-ция КПД метательной установки)\n",
    "    args: x0 - длина камеры, p0 - давление в камере, u_p - скорость поршня в момент вылета\n",
    "    :atype: float, float, float\n",
    "    return: значение КПД, %\n",
    "    :rtype: float\n",
    "    '''\n",
    "    return 0.5 * (k - 1) * ((m * u_p**2) / (p0 * x0 * S)) * 100"
   ]
  },
  {
   "cell_type": "code",
   "execution_count": 22,
   "metadata": {},
   "outputs": [],
   "source": [
    "x_m_max = opts['stop_conditions']['x_m_max']\n",
    "u_p_max = opts['stop_conditions']['u_p_max']\n",
    "p0_max  = opts['stop_conditions']['p0_max']\n",
    "x0_max = x_m_max / 3\n",
    "x0_min = 0.1 * x0_max\n",
    "p0_min = 0.1 * p0_max\n",
    "N = 30  # \"грубая\" сетка\n",
    "x0 = np.linspace(x0_min, x0_max, N) # массив варьируемой длины камеры\n",
    "p0 = np.linspace(p0_min, p0_max, N) # массив варьируемого давления в камере\n",
    "# списки-list для записи всех результатов    \n",
    "arr_x     = []                          \n",
    "arr_p     = []\n",
    "arr_tf    = []\n",
    "arr_u_p   = []\n",
    "arr_label = []"
   ]
  },
  {
   "cell_type": "code",
   "execution_count": 59,
   "metadata": {
    "scrolled": true
   },
   "outputs": [
    {
     "name": "stderr",
     "output_type": "stream",
     "text": [
      "100%|██████████████████████████████████████████████████████████████████████████████████| 30/30 [04:39<00:00,  9.31s/it]"
     ]
    },
    {
     "name": "stdout",
     "output_type": "stream",
     "text": [
      "Время выполнения перебора: \n",
      "279.3908943000006 cек\n",
      "   или   \n",
      "4.65651490500001 мин\n"
     ]
    },
    {
     "name": "stderr",
     "output_type": "stream",
     "text": [
      "\n"
     ]
    }
   ],
   "source": [
    "# Перебор параметров (обратная задача решается методом полного перебора)\n",
    "time_start = timeit.default_timer() #таймер\n",
    "for i in tqdm(range(0,N)):    \n",
    "    for j in range(0,N):\n",
    "        res = foo(x0[i], p0[j])\n",
    "        u_p = res['layers'][-1]['u_p']\n",
    "        if (u_p >= u_p_max):\n",
    "            Label = True\n",
    "        else:\n",
    "            Label = False\n",
    "        arr_tf.append(target_foo(x0[i], p0[j], u_p))\n",
    "        arr_x.append(x0[i])\n",
    "        arr_p.append(p0[j])\n",
    "        arr_u_p.append(u_p)\n",
    "        arr_label.append(Label)\n",
    "time_end = timeit.default_timer() - time_start\n",
    "print(f'Время выполнения перебора: \\n{time_end} cек\\n   или   \\n{time_end/60} мин')"
   ]
  },
  {
   "cell_type": "code",
   "execution_count": 60,
   "metadata": {},
   "outputs": [],
   "source": [
    "# Запишем в файл data_set.xlsx\n",
    "dict_sort = {\n",
    "    'x0': arr_x,\n",
    "    'p0': arr_p,\n",
    "    'u_p': arr_u_p,\n",
    "    'label': arr_label,\n",
    "    'tf': arr_tf\n",
    "}\n",
    "df = pd.DataFrame(dict_sort)\n",
    "df.to_excel('data_set.xlsx', 'sorting', index=False)"
   ]
  },
  {
   "cell_type": "code",
   "execution_count": 23,
   "metadata": {
    "scrolled": false
   },
   "outputs": [
    {
     "data": {
      "text/html": [
       "<div>\n",
       "<style scoped>\n",
       "    .dataframe tbody tr th:only-of-type {\n",
       "        vertical-align: middle;\n",
       "    }\n",
       "\n",
       "    .dataframe tbody tr th {\n",
       "        vertical-align: top;\n",
       "    }\n",
       "\n",
       "    .dataframe thead th {\n",
       "        text-align: right;\n",
       "    }\n",
       "</style>\n",
       "<table border=\"1\" class=\"dataframe\">\n",
       "  <thead>\n",
       "    <tr style=\"text-align: right;\">\n",
       "      <th></th>\n",
       "      <th>x0</th>\n",
       "      <th>p0</th>\n",
       "      <th>u_p</th>\n",
       "      <th>label</th>\n",
       "      <th>tf</th>\n",
       "    </tr>\n",
       "  </thead>\n",
       "  <tbody>\n",
       "    <tr>\n",
       "      <th>0</th>\n",
       "      <td>0.026583</td>\n",
       "      <td>1.000000e+06</td>\n",
       "      <td>38.492115</td>\n",
       "      <td>False</td>\n",
       "      <td>74.255890</td>\n",
       "    </tr>\n",
       "    <tr>\n",
       "      <th>1</th>\n",
       "      <td>0.026583</td>\n",
       "      <td>1.310345e+06</td>\n",
       "      <td>44.048197</td>\n",
       "      <td>False</td>\n",
       "      <td>74.209248</td>\n",
       "    </tr>\n",
       "    <tr>\n",
       "      <th>2</th>\n",
       "      <td>0.026583</td>\n",
       "      <td>1.620690e+06</td>\n",
       "      <td>48.973517</td>\n",
       "      <td>False</td>\n",
       "      <td>74.166893</td>\n",
       "    </tr>\n",
       "    <tr>\n",
       "      <th>3</th>\n",
       "      <td>0.026583</td>\n",
       "      <td>1.931034e+06</td>\n",
       "      <td>53.446339</td>\n",
       "      <td>False</td>\n",
       "      <td>74.136701</td>\n",
       "    </tr>\n",
       "    <tr>\n",
       "      <th>4</th>\n",
       "      <td>0.026583</td>\n",
       "      <td>2.241379e+06</td>\n",
       "      <td>57.569804</td>\n",
       "      <td>False</td>\n",
       "      <td>74.107388</td>\n",
       "    </tr>\n",
       "    <tr>\n",
       "      <th>...</th>\n",
       "      <td>...</td>\n",
       "      <td>...</td>\n",
       "      <td>...</td>\n",
       "      <td>...</td>\n",
       "      <td>...</td>\n",
       "    </tr>\n",
       "    <tr>\n",
       "      <th>895</th>\n",
       "      <td>0.265833</td>\n",
       "      <td>8.758621e+06</td>\n",
       "      <td>234.651221</td>\n",
       "      <td>True</td>\n",
       "      <td>31.506291</td>\n",
       "    </tr>\n",
       "    <tr>\n",
       "      <th>896</th>\n",
       "      <td>0.265833</td>\n",
       "      <td>9.068966e+06</td>\n",
       "      <td>238.375039</td>\n",
       "      <td>True</td>\n",
       "      <td>31.401555</td>\n",
       "    </tr>\n",
       "    <tr>\n",
       "      <th>897</th>\n",
       "      <td>0.265833</td>\n",
       "      <td>9.379310e+06</td>\n",
       "      <td>242.138554</td>\n",
       "      <td>True</td>\n",
       "      <td>31.328842</td>\n",
       "    </tr>\n",
       "    <tr>\n",
       "      <th>898</th>\n",
       "      <td>0.265833</td>\n",
       "      <td>9.689655e+06</td>\n",
       "      <td>245.744135</td>\n",
       "      <td>True</td>\n",
       "      <td>31.235277</td>\n",
       "    </tr>\n",
       "    <tr>\n",
       "      <th>899</th>\n",
       "      <td>0.265833</td>\n",
       "      <td>1.000000e+07</td>\n",
       "      <td>249.306142</td>\n",
       "      <td>True</td>\n",
       "      <td>31.149660</td>\n",
       "    </tr>\n",
       "  </tbody>\n",
       "</table>\n",
       "<p>900 rows × 5 columns</p>\n",
       "</div>"
      ],
      "text/plain": [
       "           x0            p0         u_p  label         tf\n",
       "0    0.026583  1.000000e+06   38.492115  False  74.255890\n",
       "1    0.026583  1.310345e+06   44.048197  False  74.209248\n",
       "2    0.026583  1.620690e+06   48.973517  False  74.166893\n",
       "3    0.026583  1.931034e+06   53.446339  False  74.136701\n",
       "4    0.026583  2.241379e+06   57.569804  False  74.107388\n",
       "..        ...           ...         ...    ...        ...\n",
       "895  0.265833  8.758621e+06  234.651221   True  31.506291\n",
       "896  0.265833  9.068966e+06  238.375039   True  31.401555\n",
       "897  0.265833  9.379310e+06  242.138554   True  31.328842\n",
       "898  0.265833  9.689655e+06  245.744135   True  31.235277\n",
       "899  0.265833  1.000000e+07  249.306142   True  31.149660\n",
       "\n",
       "[900 rows x 5 columns]"
      ]
     },
     "execution_count": 23,
     "metadata": {},
     "output_type": "execute_result"
    }
   ],
   "source": [
    "# Прочитать данные из файла в случае необходимости\n",
    "df = pd.read_excel('data_set.xlsx', 'sorting')\n",
    "df"
   ]
  },
  {
   "cell_type": "code",
   "execution_count": 24,
   "metadata": {},
   "outputs": [
    {
     "data": {
      "text/html": [
       "<div>\n",
       "<style scoped>\n",
       "    .dataframe tbody tr th:only-of-type {\n",
       "        vertical-align: middle;\n",
       "    }\n",
       "\n",
       "    .dataframe tbody tr th {\n",
       "        vertical-align: top;\n",
       "    }\n",
       "\n",
       "    .dataframe thead th {\n",
       "        text-align: right;\n",
       "    }\n",
       "</style>\n",
       "<table border=\"1\" class=\"dataframe\">\n",
       "  <thead>\n",
       "    <tr style=\"text-align: right;\">\n",
       "      <th></th>\n",
       "      <th>x0</th>\n",
       "      <th>p0</th>\n",
       "      <th>u_p</th>\n",
       "      <th>label</th>\n",
       "      <th>tf</th>\n",
       "    </tr>\n",
       "  </thead>\n",
       "  <tbody>\n",
       "    <tr>\n",
       "      <th>55</th>\n",
       "      <td>0.034833</td>\n",
       "      <td>8.758621e+06</td>\n",
       "      <td>126.788035</td>\n",
       "      <td>True</td>\n",
       "      <td>70.197652</td>\n",
       "    </tr>\n",
       "    <tr>\n",
       "      <th>56</th>\n",
       "      <td>0.034833</td>\n",
       "      <td>9.068966e+06</td>\n",
       "      <td>128.965480</td>\n",
       "      <td>True</td>\n",
       "      <td>70.144071</td>\n",
       "    </tr>\n",
       "    <tr>\n",
       "      <th>57</th>\n",
       "      <td>0.034833</td>\n",
       "      <td>9.379310e+06</td>\n",
       "      <td>131.119476</td>\n",
       "      <td>True</td>\n",
       "      <td>70.107627</td>\n",
       "    </tr>\n",
       "    <tr>\n",
       "      <th>58</th>\n",
       "      <td>0.034833</td>\n",
       "      <td>9.689655e+06</td>\n",
       "      <td>133.232116</td>\n",
       "      <td>True</td>\n",
       "      <td>70.066639</td>\n",
       "    </tr>\n",
       "    <tr>\n",
       "      <th>59</th>\n",
       "      <td>0.034833</td>\n",
       "      <td>1.000000e+07</td>\n",
       "      <td>135.319490</td>\n",
       "      <td>True</td>\n",
       "      <td>70.036182</td>\n",
       "    </tr>\n",
       "    <tr>\n",
       "      <th>...</th>\n",
       "      <td>...</td>\n",
       "      <td>...</td>\n",
       "      <td>...</td>\n",
       "      <td>...</td>\n",
       "      <td>...</td>\n",
       "    </tr>\n",
       "    <tr>\n",
       "      <th>895</th>\n",
       "      <td>0.265833</td>\n",
       "      <td>8.758621e+06</td>\n",
       "      <td>234.651221</td>\n",
       "      <td>True</td>\n",
       "      <td>31.506291</td>\n",
       "    </tr>\n",
       "    <tr>\n",
       "      <th>896</th>\n",
       "      <td>0.265833</td>\n",
       "      <td>9.068966e+06</td>\n",
       "      <td>238.375039</td>\n",
       "      <td>True</td>\n",
       "      <td>31.401555</td>\n",
       "    </tr>\n",
       "    <tr>\n",
       "      <th>897</th>\n",
       "      <td>0.265833</td>\n",
       "      <td>9.379310e+06</td>\n",
       "      <td>242.138554</td>\n",
       "      <td>True</td>\n",
       "      <td>31.328842</td>\n",
       "    </tr>\n",
       "    <tr>\n",
       "      <th>898</th>\n",
       "      <td>0.265833</td>\n",
       "      <td>9.689655e+06</td>\n",
       "      <td>245.744135</td>\n",
       "      <td>True</td>\n",
       "      <td>31.235277</td>\n",
       "    </tr>\n",
       "    <tr>\n",
       "      <th>899</th>\n",
       "      <td>0.265833</td>\n",
       "      <td>1.000000e+07</td>\n",
       "      <td>249.306142</td>\n",
       "      <td>True</td>\n",
       "      <td>31.149660</td>\n",
       "    </tr>\n",
       "  </tbody>\n",
       "</table>\n",
       "<p>617 rows × 5 columns</p>\n",
       "</div>"
      ],
      "text/plain": [
       "           x0            p0         u_p  label         tf\n",
       "55   0.034833  8.758621e+06  126.788035   True  70.197652\n",
       "56   0.034833  9.068966e+06  128.965480   True  70.144071\n",
       "57   0.034833  9.379310e+06  131.119476   True  70.107627\n",
       "58   0.034833  9.689655e+06  133.232116   True  70.066639\n",
       "59   0.034833  1.000000e+07  135.319490   True  70.036182\n",
       "..        ...           ...         ...    ...        ...\n",
       "895  0.265833  8.758621e+06  234.651221   True  31.506291\n",
       "896  0.265833  9.068966e+06  238.375039   True  31.401555\n",
       "897  0.265833  9.379310e+06  242.138554   True  31.328842\n",
       "898  0.265833  9.689655e+06  245.744135   True  31.235277\n",
       "899  0.265833  1.000000e+07  249.306142   True  31.149660\n",
       "\n",
       "[617 rows x 5 columns]"
      ]
     },
     "execution_count": 24,
     "metadata": {},
     "output_type": "execute_result"
    }
   ],
   "source": [
    "# Отбираем те решения, которые дают необходимую скорость вылета поршня\n",
    "df_true = df.loc[df['label'] == True]\n",
    "df_true"
   ]
  },
  {
   "cell_type": "markdown",
   "metadata": {},
   "source": [
    "## Задача баллистического проектирования"
   ]
  },
  {
   "cell_type": "code",
   "execution_count": 34,
   "metadata": {},
   "outputs": [
    {
     "data": {
      "text/plain": [
       "(0.03483333333333333, 8758620.689655174, 70.19765163922713)"
      ]
     },
     "execution_count": 34,
     "metadata": {},
     "output_type": "execute_result"
    }
   ],
   "source": [
    "# Ищем максимальное значение целевой функции target foo (tf)\n",
    "ind_max = df_true['tf'].idxmax()\n",
    "x0_opt = df_true['x0'][ind_max]\n",
    "p0_opt = df_true['p0'][ind_max]\n",
    "tf_opt = df_true['tf'][ind_max]\n",
    "x0_opt, p0_opt, tf_opt"
   ]
  },
  {
   "cell_type": "code",
   "execution_count": 35,
   "metadata": {},
   "outputs": [
    {
     "name": "stderr",
     "output_type": "stream",
     "text": [
      "100%|██████████████████████████████████████████████████████████████████████████████████| 21/21 [03:30<00:00, 10.00s/it]\n",
      "  0%|                                                                                           | 0/21 [00:00<?, ?it/s]"
     ]
    },
    {
     "name": "stdout",
     "output_type": "stream",
     "text": [
      "0.029833333333333326 9758620.689655174 71.9481576894004 1\n"
     ]
    },
    {
     "name": "stderr",
     "output_type": "stream",
     "text": [
      "100%|██████████████████████████████████████████████████████████████████████████████████| 21/21 [03:38<00:00, 10.39s/it]"
     ]
    },
    {
     "name": "stdout",
     "output_type": "stream",
     "text": [
      "0.029833333333333326 9758620.689655174 71.9481576894004 2\n"
     ]
    },
    {
     "name": "stderr",
     "output_type": "stream",
     "text": [
      "\n"
     ]
    }
   ],
   "source": [
    "p_error, x_error = 1e5, 1e-3 # Точность поиска решения 0.1 МПа по давлению в камере и 1 мм по её длине\n",
    "C = 21                       # кол-во узлов сетки\n",
    "counter = 0                  # счетчик кол-ва уточнений (кол-ва построенных сеток)\n",
    "flag = False\n",
    "while flag == False:\n",
    "    x0_grid = np.linspace(x0_opt - x_error*(C-1)/2, x0_opt + x_error*(C-1)/2, C)\n",
    "    p0_grid = np.linspace(p0_opt - p_error*(C-1)/2, p0_opt + p_error*(C-1)/2, C)\n",
    "    flag_correct = False  \n",
    "    arr_label = []\n",
    "    arr_tf = []\n",
    "    arr_x0 = []\n",
    "    arr_p0 = []\n",
    "    counter += 1  \n",
    "    for i in tqdm(range(len(x0_grid))):\n",
    "        for j in range(len(p0_grid)):\n",
    "            res = foo(x0_grid[i], p0_grid[j])\n",
    "            u_p = res['layers'][-1]['u_p']\n",
    "            if (u_p >= u_p_max and p0_grid[j] <= p0_max and x0_grid[i] <= x0_max):\n",
    "                Label = True\n",
    "            else:\n",
    "                Label = False\n",
    "            arr_label.append(Label)\n",
    "            arr_tf.append(target_foo(x0_grid[i], p0_grid[j], u_p))\n",
    "            arr_x0.append(x0_grid[i])\n",
    "            arr_p0.append(p0_grid[j])\n",
    "    for l in range(len(arr_label)):\n",
    "        if (arr_label[l] == True) and (arr_tf[l] > tf_opt):\n",
    "            tf_opt = arr_tf[l]\n",
    "            x0_opt = arr_x0[l]\n",
    "            p0_opt = arr_p0[l]\n",
    "            flag_correct = True \n",
    "    print(x0_opt,p0_opt,tf_opt,counter)\n",
    "    if flag_correct == False:\n",
    "        flag = True"
   ]
  },
  {
   "cell_type": "code",
   "execution_count": 36,
   "metadata": {},
   "outputs": [],
   "source": [
    "# Визуализируем данные\n",
    "N = len(df['x0'])\n",
    "X, Y = np.meshgrid(df['x0'], df['p0'])\n",
    "Z = np.empty([N, N])"
   ]
  },
  {
   "cell_type": "code",
   "execution_count": null,
   "metadata": {},
   "outputs": [],
   "source": [
    "for i in tqdm(range(N)):    \n",
    "    for j in range(N):\n",
    "        res = foo(X[0][j], Y[i][0])\n",
    "        u_p = res['layers'][-1]['u_p']\n",
    "        Z[i][j] = (target_foo(X[0][j], Y[i][0], u_p))"
   ]
  },
  {
   "cell_type": "code",
   "execution_count": null,
   "metadata": {},
   "outputs": [],
   "source": [
    "fig = pylab.figure()\n",
    "axes = Axes3D(fig)\n",
    "axes.plot_surface(X, Y, Z, rstride = 3, cstride = 3, cmap = cm.viridis) \n",
    "axes.set_xlabel(\"$p$, $Па$\")\n",
    "axes.set_ylabel(\"$x0$, $м$\")\n",
    "axes.set_zlabel(\"$\\eta$, %\")\n",
    "pylab.show()"
   ]
  },
  {
   "cell_type": "code",
   "execution_count": 37,
   "metadata": {},
   "outputs": [
    {
     "data": {
      "image/png": "[encoded data removed]",
      "text/plain": [
       "<Figure size 600x500 with 2 Axes>"
      ]
     },
     "metadata": {
      "needs_background": "light"
     },
     "output_type": "display_data"
    }
   ],
   "source": [
    "plt.figure(figsize=(6,5), dpi=100)\n",
    "plt.xlabel('$x_{0}$, м', fontsize = 12)\n",
    "plt.ylabel('$p_{0}$, МПа', fontsize = 12)\n",
    "cb = plt.scatter(df_true['x0'], df_true['p0']/1e6, c=df_true['tf'], cmap=cm.viridis, s=30,marker='s')\n",
    "plt.colorbar(cb).set_label(r'$\\eta$, %',fontsize=12)\n",
    "plt.scatter(x0_opt,p0_opt/1e6,s=80, color='r',marker='*')\n",
    "plt.grid()\n",
    "plt.show()"
   ]
  },
  {
   "cell_type": "code",
   "execution_count": 38,
   "metadata": {},
   "outputs": [
    {
     "name": "stdout",
     "output_type": "stream",
     "text": [
      "Wall time: 497 ms\n"
     ]
    }
   ],
   "source": [
    "# Решение прямой задачи для оптимального варианта\n",
    "%time res = foo(x0_opt, p0_opt)"
   ]
  },
  {
   "cell_type": "code",
   "execution_count": 39,
   "metadata": {},
   "outputs": [
    {
     "data": {
      "application/vnd.jupyter.widget-view+json": {
       "model_id": "ecc01ff787a24e82a10a5cca2d7041bf",
       "version_major": 2,
       "version_minor": 0
      },
      "text/plain": [
       "interactive(children=(Dropdown(description='function', options=('p(x)', 'u(x)'), value='p(x)'), Output()), _do…"
      ]
     },
     "metadata": {},
     "output_type": "display_data"
    }
   ],
   "source": [
    "from IPython.display import display\n",
    "from ipywidgets import interact\n",
    "#-------------------------------------------------------------------\n",
    "# Распределение газодинамических параметров на временных слоях\n",
    "#-------------------------------------------------------------------\n",
    "count_layers = len(res['layers'])-1\n",
    "@interact(function=['p(x)', 'u(x)'])\n",
    "def foo_lang(function):\n",
    "    #------------------------\n",
    "    if function == 'p(x)':\n",
    "        @interact(layer=(0,count_layers,1))\n",
    "        def plot_foo1(layer=0):\n",
    "            plt.figure(figsize=(7,5))\n",
    "            plt.plot(res['layers'][layer]['x'], res['layers'][layer]['p']/1e6)\n",
    "            plt.xlim(0, x_m_max)\n",
    "            plt.ylim(0, (p0_max+1e6)/1e6)\n",
    "            plt.title('$p(x)$')\n",
    "            plt.grid()\n",
    "            plt.show()\n",
    "    #------------------------\n",
    "    if function == 'u_p(x)':\n",
    "        @interact(layer=(0,count_layers,1))\n",
    "        def plot_foo2(layer=0):\n",
    "            plt.figure(figsize=(7,5))\n",
    "            plt.plot(res['layers'][layer]['x'], res['layers'][layer]['u'])\n",
    "            lt.xlim(0, x_m_max)\n",
    "            plt.ylim(0, res['layers'][-1]['u_p'])\n",
    "            plt.title('$u(x)$')\n",
    "            plt.grid()\n",
    "            plt.show()"
   ]
  },
  {
   "cell_type": "code",
   "execution_count": null,
   "metadata": {},
   "outputs": [],
   "source": []
  }
 ],
 "metadata": {
  "kernelspec": {
   "display_name": "Python 3",
   "language": "python",
   "name": "python3"
  },
  "language_info": {
   "codemirror_mode": {
    "name": "ipython",
    "version": 3
   },
   "file_extension": ".py",
   "mimetype": "text/x-python",
   "name": "python",
   "nbconvert_exporter": "python",
   "pygments_lexer": "ipython3",
   "version": "3.8.3"
  }
 },
 "nbformat": 4,
 "nbformat_minor": 1
}
